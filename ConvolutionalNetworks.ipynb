{
 "cells": [
  {
   "cell_type": "markdown",
   "metadata": {
    "tags": [
     "pdf-title"
    ]
   },
   "source": [
    "# Convolutional Networks\n",
    "So far we have worked with deep fully-connected networks, using them to explore different optimization strategies and network architectures. Fully-connected networks are a good testbed for experimentation because they are very computationally efficient, but in practice all state-of-the-art results use convolutional networks instead.\n",
    "\n",
    "In this TP, you have to implement a very naive convolutional and max pooling layer. The goal of this TP is not to make you code efficiently this operators (obvisiouly you can and are encouraged to) but to introduce you to this concept.\n",
    "\n",
    "As usually, write and derive your formulas first in the report! We will be vigilant regarding the correspondence of formulas and code.\n",
    "\n",
    "Here is a summary of what you will have to do :\n",
    "- *find* the formulas you need to complete the missing parts of the code, convolution, max pooling, etc. Some of the formulas/operators asked are already familiar to you (ReLu, Linear, etc).\n",
    "- *report* these formulas in your report\n",
    "- *implement* the formulas you derive\n",
    "- *test* if your code works\n",
    "\n",
    "**LOOPS ARE ALLOWED only in:**\n",
    "- layers/conv_forward\n",
    "- layers/conv_backward\n",
    "- layers/max_pool_forward\n",
    "- layers/max_pool_backward\n"
   ]
  },
  {
   "cell_type": "code",
   "execution_count": 1,
   "metadata": {
    "tags": [
     "pdf-ignore"
    ]
   },
   "outputs": [],
   "source": [
    "# As usual, a bit of setup\n",
    "import numpy as np\n",
    "import matplotlib.pyplot as plt\n",
    "from sklearn.datasets import load_digits\n",
    "\n",
    "from cnn import *\n",
    "from layers import *\n",
    "from gradient_check import *\n",
    "\n",
    "%matplotlib inline\n",
    "plt.rcParams['figure.figsize'] = (10.0, 8.0) # set default size of plots\n",
    "plt.rcParams['image.interpolation'] = 'nearest'\n",
    "plt.rcParams['image.cmap'] = 'gray'\n",
    "\n",
    "# for auto-reloading external modules\n",
    "# see http://stackoverflow.com/questions/1907993/autoreload-of-modules-in-ipython\n",
    "%load_ext autoreload\n",
    "%autoreload 2\n",
    "\n",
    "# load arrays for tests\n",
    "npzfile = np.load(\"arrays_check_true.npz\")\n",
    "\n",
    "def rel_error(x, y):\n",
    "  \"\"\" returns relative error \"\"\"\n",
    "  return np.max(np.abs(x - y) / (np.maximum(1e-8, np.abs(x) + np.abs(y))))\n",
    "\n",
    "\n",
    "def check_same_array(array1, array2):\n",
    "    \"\"\" Compares two arrays.\"\"\"\n",
    "    # verify shape and content\n",
    "    if array1.shape == array2.shape and np.isclose(array1, array2, atol=1e-07).all():\n",
    "        return True\n",
    "    else:\n",
    "        return False"
   ]
  },
  {
   "cell_type": "markdown",
   "metadata": {},
   "source": [
    "## The data\n",
    "\n",
    "Let's start by uploading the data. In this TP, and since the code you ask you is not optimized, we will work with a very small version of the [mnist](http://yann.lecun.com/exdb/mnist/) dataset.\n",
    "\n",
    "We have 1797 samples of ten classes (0 to 9), each image is a 8x8 gray scale image and for the purpose of the TP we will transform them in 3x8x8 images. The 3 channels correspond usually for the RGB scheme, here they are simply copies of the original."
   ]
  },
  {
   "cell_type": "code",
   "execution_count": 2,
   "metadata": {
    "tags": [
     "pdf-ignore"
    ]
   },
   "outputs": [
    {
     "name": "stdout",
     "output_type": "stream",
     "text": [
      "Shape of the data: (1797, 3, 8, 8)\n",
      "Label =  9\n",
      "Visualization:\n"
     ]
    },
    {
     "data": {
      "text/plain": [
       "<matplotlib.image.AxesImage at 0x2b40da48940>"
      ]
     },
     "execution_count": 2,
     "metadata": {},
     "output_type": "execute_result"
    },
    {
     "data": {
      "image/png": "[encoded data removed]",
      "text/plain": [
       "<Figure size 432x288 with 1 Axes>"
      ]
     },
     "metadata": {
      "needs_background": "light"
     },
     "output_type": "display_data"
    }
   ],
   "source": [
    "# Load the MNIST data (cropped)\n",
    "\n",
    "np.random.seed(13)\n",
    "\n",
    "digits = load_digits()\n",
    "\n",
    "data = np.array(digits.images)\n",
    "labels = digits.target\n",
    "\n",
    "# 3 channel image\n",
    "data = data[:, None, :, :]\n",
    "data = np.tile(data, (1, 3, 1, 1))\n",
    "\n",
    "# normalize between 0 and 1\n",
    "data /= 16\n",
    "\n",
    "# shuffle\n",
    "idx = np.arange(data.shape[0])\n",
    "np.random.shuffle(idx)\n",
    "\n",
    "data = data[idx]\n",
    "labels = labels[idx]\n",
    "\n",
    "print(\"Shape of the data:\", data.shape)\n",
    "print(\"Label = \", labels[0])\n",
    "print(\"Visualization:\")\n",
    "plt.imshow(np.moveaxis(data[0], 0, -1))"
   ]
  },
  {
   "cell_type": "markdown",
   "metadata": {},
   "source": [
    "## Linear layer and ReLu\n",
    "\n",
    "Before starting with convolutions, we ask you to implement (as warm up) the forward and the backward for the linear layer and the ReLU implement in `layers.py`. "
   ]
  },
  {
   "cell_type": "code",
   "execution_count": 3,
   "metadata": {},
   "outputs": [
    {
     "name": "stdout",
     "output_type": "stream",
     "text": [
      "(Forward) x shape: (113, 32, 32)\n",
      "(Forward) w shape: (1024, 64)\n",
      "(Forward) biais shape: (64,)\n",
      "(Forward) out shape: (113, 64)\n",
      "Great! Your implementation of linear_forward seems good !\n"
     ]
    }
   ],
   "source": [
    "# Linear: forward\n",
    "np.random.seed(13)\n",
    "N = 113\n",
    "d1 = 32\n",
    "d2 = 32\n",
    "D = d1 * d2\n",
    "M = 64\n",
    "X = np.random.randn(N, d1, d1)\n",
    "W = np.random.randn(D, M)\n",
    "b = np.random.randn(M)\n",
    "\n",
    "out, cache = linear_forward(X, W, b)\n",
    "x, w, b = cache\n",
    "print(\"(Forward) x shape: {}\".format(x.shape))\n",
    "print(\"(Forward) w shape: {}\".format(w.shape))\n",
    "print(\"(Forward) biais shape: {}\".format(b.shape))\n",
    "print(\"(Forward) out shape: {}\".format(out.shape))\n",
    "if out is None:\n",
    "    print(\"You have to implement linear_forward first.\")\n",
    "else:\n",
    "    if np.abs(out.sum(0).mean() + 64.5087668269637) < 1e-7 \\\n",
    "       and np.abs(out.sum(0).std() - 356.6537542878495) < 1e-7 \\\n",
    "       and np.abs(out.sum(1).mean() + 36.53593873385556) < 1e-7 \\\n",
    "       and np.abs(out.sum(1).std() - 263.5824076112761) < 1e-7:\n",
    "        print(\"Great! Your implementation of linear_forward seems good !\")\n",
    "    else:\n",
    "        print(\"Bad news! Your implementation of linear_forward seems wrong !\")"
   ]
  },
  {
   "cell_type": "code",
   "execution_count": 4,
   "metadata": {},
   "outputs": [
    {
     "name": "stdout",
     "output_type": "stream",
     "text": [
      "(Forward) x shape: (13, 16, 16)\n",
      "(Forward) w shape: (256, 32)\n",
      "(Forward) biais shape: (32,)\n",
      "(Forward) out shape: (13, 32)\n",
      "==================\n",
      "(Backward) dx shape: (13, 16, 16)\n",
      "(Backward) dw shape: (256, 32)\n",
      "(Backward) db shape: (32,)\n",
      "Great! Your implementation of linear_backward seems good !\n"
     ]
    }
   ],
   "source": [
    "# Linear: backward\n",
    "np.random.seed(13)\n",
    "N = 13\n",
    "d1 = 16\n",
    "d2 = 16\n",
    "D = d1 * d2\n",
    "M = 32\n",
    "X = np.random.randn(N, d1, d1)\n",
    "W = np.random.randn(D, M)\n",
    "b = np.random.randn(M)\n",
    "\n",
    "dout = np.random.randn(N, M)\n",
    "\n",
    "out, cache = linear_forward(X, W, b)\n",
    "x, w, b = cache\n",
    "print(\"(Forward) x shape: {}\".format(x.shape))\n",
    "print(\"(Forward) w shape: {}\".format(w.shape))\n",
    "print(\"(Forward) biais shape: {}\".format(b.shape))\n",
    "print(\"(Forward) out shape: {}\".format(out.shape))\n",
    "dx, dw, db = linear_backward(dout, cache)\n",
    "print(\"==================\")\n",
    "print(\"(Backward) dx shape: {}\".format(dx.shape))\n",
    "print(\"(Backward) dw shape: {}\".format(dw.shape))\n",
    "print(\"(Backward) db shape: {}\".format(db.shape))\n",
    "\n",
    "if out is None:\n",
    "    print(\"You have to implement linear_backward first.\")\n",
    "else:\n",
    "    dx_num = eval_numerical_gradient_array(lambda X: linear_forward(X, W, b)[0], X, dout)\n",
    "    dw_num = eval_numerical_gradient_array(lambda W: linear_forward(X, W, b)[0], W, dout)\n",
    "    db_num = eval_numerical_gradient_array(lambda b: linear_forward(X, W, b)[0], b, dout)\n",
    "    if rel_error(dx, dx_num) < 1e-7 and rel_error(dw, dw_num) < 1e-6 and rel_error(db, db_num) < 1e-7:\n",
    "        print(\"Great! Your implementation of linear_backward seems good !\")\n",
    "    else:\n",
    "        print(\"Bad news! Your implementation of linear_backward seems wrong !\")"
   ]
  },
  {
   "cell_type": "code",
   "execution_count": 5,
   "metadata": {},
   "outputs": [
    {
     "name": "stdout",
     "output_type": "stream",
     "text": [
      "(Forward) x shape: (113, 32, 32)\n",
      "Great! Your implementation of relu_forward seems good !\n"
     ]
    }
   ],
   "source": [
    "# ReLu: forward\n",
    "np.random.seed(13)\n",
    "N = 113\n",
    "d1 = 32\n",
    "d2 = 32\n",
    "D = d1 * d2\n",
    "M = 64\n",
    "X = np.random.randint(-100, 100, size=(N, d1, d1))\n",
    "\n",
    "out, cache = relu_forward(X)\n",
    "x = cache\n",
    "print(\"(Forward) x shape: {}\".format(x.shape))\n",
    "\n",
    "if out is None:\n",
    "    print(\"You have to implement relu_forward first.\")\n",
    "else:\n",
    "    if check_same_array(out, X - np.minimum(X, 0)):\n",
    "        print(\"Great! Your implementation of relu_forward seems good !\")\n",
    "    else:\n",
    "        print(\"Bad news! Your implementation of relu_forward seems wrong !\")"
   ]
  },
  {
   "cell_type": "code",
   "execution_count": 6,
   "metadata": {},
   "outputs": [
    {
     "name": "stdout",
     "output_type": "stream",
     "text": [
      "(Forward) x shape: (113, 64)\n",
      "(Backward) dx shape: (113, 64)\n",
      "Great! Your implementation of conv_forward seems good !\n"
     ]
    }
   ],
   "source": [
    "# ReLu: backward\n",
    "np.random.seed(13)\n",
    "N = 113\n",
    "M = 64\n",
    "X = np.random.randn(N, M)\n",
    "\n",
    "dout = np.random.randn(N, M)\n",
    "\n",
    "out, cache = relu_forward(X)\n",
    "x = cache\n",
    "print(\"(Forward) x shape: {}\".format(x.shape))\n",
    "dx = relu_backward(dout, cache)\n",
    "print(\"(Backward) dx shape: {}\".format(dx.shape))\n",
    "\n",
    "if out is None:\n",
    "    print(\"You have to implement conv_forward first.\")\n",
    "else:\n",
    "    dx_num = eval_numerical_gradient_array(lambda X: relu_forward(X)[0], X, dout)\n",
    "    if rel_error(dx, dx_num) < 1e-11:\n",
    "        print(\"Great! Your implementation of conv_forward seems good !\")\n",
    "    else:\n",
    "        print(\"Bad news! Your implementation of conv_forward seems wrong !\")"
   ]
  },
  {
   "cell_type": "markdown",
   "metadata": {},
   "source": [
    "# Convolution: forward pass\n",
    "The core of a convolutional network is the convolution operation. In the file `layers.py`, implement the forward pass for the convolution layer in the function `conv_forward`.\n",
    "\n",
    "You don't have to worry too much about efficiency; just write the code in whatever way you find most clear.\n",
    "\n",
    "You can test your implementation by running the following:"
   ]
  },
  {
   "cell_type": "code",
   "execution_count": 7,
   "metadata": {},
   "outputs": [
    {
     "name": "stdout",
     "output_type": "stream",
     "text": [
      "Great! Your implementation of conv_forward seems good !\n"
     ]
    }
   ],
   "source": [
    "x_shape = (2, 3, 4, 4)\n",
    "w_shape = (3, 3, 4, 4)\n",
    "x = np.linspace(-0.1, 0.5, num=np.prod(x_shape)).reshape(x_shape)\n",
    "w = np.linspace(-0.2, 0.3, num=np.prod(w_shape)).reshape(w_shape)\n",
    "b = np.linspace(-0.1, 0.2, num=3)\n",
    "\n",
    "conv_param = {'stride': 2, 'pad': 1}\n",
    "out, _ = conv_forward(x, w, b, conv_param)\n",
    "\n",
    "if out is None:\n",
    "    print(\"You have to implement conv_forward first.\")\n",
    "else:\n",
    "    if check_same_array(out, npzfile['arr_CFN']):\n",
    "        print(\"Great! Your implementation of conv_forward seems good !\")\n",
    "    else:\n",
    "        print(\"Bad news! Your implementation of conv_forward seems wrong !\")"
   ]
  },
  {
   "cell_type": "markdown",
   "metadata": {},
   "source": [
    "# Aside: Image processing via convolutions\n",
    "\n",
    "As fun way to both check your implementation and gain a better understanding of the type of operation that convolutional layers can perform, we will set up an input containing two images and manually set up filters that perform common image processing operations (grayscale conversion and edge detection). The convolution forward pass will apply these operations to each of the input images. We can then visualize the results as a sanity check."
   ]
  },
  {
   "cell_type": "code",
   "execution_count": 8,
   "metadata": {
    "tags": [
     "pdf-ignore-input"
    ]
   },
   "outputs": [
    {
     "data": {
      "image/png": "[encoded data removed]",
      "text/plain": [
       "<Figure size 432x288 with 6 Axes>"
      ]
     },
     "metadata": {
      "needs_background": "light"
     },
     "output_type": "display_data"
    }
   ],
   "source": [
    "from imageio import imread\n",
    "from PIL import Image\n",
    "\n",
    "kitten = imread('notebook_images/kitten.jpg')\n",
    "puppy = imread('notebook_images/puppy.jpg')\n",
    "# kitten is wide, and puppy is already square\n",
    "d = kitten.shape[1] - kitten.shape[0]\n",
    "kitten_cropped = kitten[:, d//2:-d//2, :]\n",
    "\n",
    "img_size = 200   # Make this smaller if it runs too slow\n",
    "resized_puppy = np.array(Image.fromarray(puppy).resize((img_size, img_size)))\n",
    "resized_kitten = np.array(Image.fromarray(kitten_cropped).resize((img_size, img_size)))\n",
    "x = np.zeros((2, 3, img_size, img_size))\n",
    "x[0, :, :, :] = resized_puppy.transpose((2, 0, 1))\n",
    "x[1, :, :, :] = resized_kitten.transpose((2, 0, 1))\n",
    "\n",
    "# Set up a convolutional weights holding 2 filters, each 3x3\n",
    "w = np.zeros((2, 3, 3, 3))\n",
    "\n",
    "# The first filter converts the image to grayscale.\n",
    "# Set up the red, green, and blue channels of the filter.\n",
    "w[0, 0, :, :] = [[0, 0, 0], [0, 0.3, 0], [0, 0, 0]]\n",
    "w[0, 1, :, :] = [[0, 0, 0], [0, 0.6, 0], [0, 0, 0]]\n",
    "w[0, 2, :, :] = [[0, 0, 0], [0, 0.1, 0], [0, 0, 0]]\n",
    "\n",
    "# Second filter detects horizontal edges in the blue channel.\n",
    "w[1, 2, :, :] = [[1, 2, 1], [0, 0, 0], [-1, -2, -1]]\n",
    "\n",
    "# Vector of biases. We don't need any bias for the grayscale\n",
    "# filter, but for the edge detection filter we want to add 128\n",
    "# to each output so that nothing is negative.\n",
    "b = np.array([0, 128])\n",
    "\n",
    "# Compute the result of convolving each input in x with each filter in w,\n",
    "# offsetting by b, and storing the results in out.\n",
    "out, _ = conv_forward(x, w, b, {'stride': 1, 'pad': 1})\n",
    "\n",
    "def imshow_no_ax(img, normalize=True):\n",
    "    \"\"\" Tiny helper to show images as uint8 and remove axis labels \"\"\"\n",
    "    if normalize:\n",
    "        img_max, img_min = np.max(img), np.min(img)\n",
    "        img = 255.0 * (img - img_min) / (img_max - img_min)\n",
    "    plt.imshow(img.astype('uint8'))\n",
    "    plt.gca().axis('off')\n",
    "\n",
    "# Show the original images and the results of the conv operation\n",
    "plt.subplot(2, 3, 1)\n",
    "imshow_no_ax(puppy, normalize=False)\n",
    "plt.title('Original image')\n",
    "plt.subplot(2, 3, 2)\n",
    "imshow_no_ax(out[0, 0])\n",
    "plt.title('Grayscale')\n",
    "plt.subplot(2, 3, 3)\n",
    "imshow_no_ax(out[0, 1])\n",
    "plt.title('Edges')\n",
    "plt.subplot(2, 3, 4)\n",
    "imshow_no_ax(kitten_cropped, normalize=False)\n",
    "plt.subplot(2, 3, 5)\n",
    "imshow_no_ax(out[1, 0])\n",
    "plt.subplot(2, 3, 6)\n",
    "imshow_no_ax(out[1, 1])\n",
    "plt.show()"
   ]
  },
  {
   "cell_type": "markdown",
   "metadata": {},
   "source": [
    "# Convolution: backward pass\n",
    "Implement the backward pass for the convolution operation in the function `conv_backward` in the file `layers.py`. Again, you don't need to worry too much about computational efficiency.\n",
    "\n",
    "When you are done, run the following to check your backward pass with a numeric gradient check."
   ]
  },
  {
   "cell_type": "code",
   "execution_count": 9,
   "metadata": {},
   "outputs": [
    {
     "name": "stdout",
     "output_type": "stream",
     "text": [
      "(Forward) x shape: (4, 3, 5, 5)\n",
      "(Forward) w shape: (2, 3, 3, 3)\n",
      "(Forward) biais shape: (2,)\n",
      "(Forward) out shape: (4, 2, 5, 5)\n",
      "============\n",
      "Dout shape: (4, 2, 5, 5)\n",
      "(Backward) dx shape: (4, 3, 5, 5)\n",
      "(Backward) dw shape: (2, 3, 3, 3)\n",
      "(Backward) db shape: (2,)\n",
      "Great! Your implementation of conv_backward seems good !\n"
     ]
    }
   ],
   "source": [
    "np.random.seed(13)\n",
    "x = np.random.randn(4, 3, 5, 5)\n",
    "w = np.random.randn(2, 3, 3, 3)\n",
    "b = np.random.randn(2,)\n",
    "dout = np.random.randn(4, 2, 5, 5)\n",
    "conv_param = {'stride': 1, 'pad': 1}\n",
    "\n",
    "out, cache = conv_forward(x, w, b, conv_param)\n",
    "x, w, b, conv_param = cache\n",
    "print(\"(Forward) x shape: {}\".format(x.shape))\n",
    "print(\"(Forward) w shape: {}\".format(w.shape))\n",
    "print(\"(Forward) biais shape: {}\".format(b.shape))\n",
    "print(\"(Forward) out shape: {}\".format(out.shape))\n",
    "dx, dw, db = conv_backward(dout, cache)\n",
    "print(\"============\")\n",
    "print(\"Dout shape: {}\".format(dout.shape))\n",
    "print(\"(Backward) dx shape: {}\".format(dx.shape))\n",
    "print(\"(Backward) dw shape: {}\".format(dw.shape))\n",
    "print(\"(Backward) db shape: {}\".format(db.shape))\n",
    "\n",
    "if dx is None or dw is None or db is None:\n",
    "    print(\"You have to implement conv_backward first.\")\n",
    "else:\n",
    "    dx_num = eval_numerical_gradient_array(lambda x: conv_forward(x, w, b, conv_param)[0], x, dout)\n",
    "    dw_num = eval_numerical_gradient_array(lambda w: conv_forward(x, w, b, conv_param)[0], w, dout)\n",
    "    db_num = eval_numerical_gradient_array(lambda b: conv_forward(x, w, b, conv_param)[0], b, dout)\n",
    "    if rel_error(dx, dx_num) < 1e-7 and rel_error(dw, dw_num) < 1e-7 and rel_error(db, db_num) < 1e-7 :\n",
    "        print(\"Great! Your implementation of conv_backward seems good !\")\n",
    "    else:\n",
    "        print(\"Bad news! Your implementation of conv_backward seems wrong !\")"
   ]
  },
  {
   "cell_type": "markdown",
   "metadata": {},
   "source": [
    "# Max-Pooling: forward\n",
    "Implement the forward pass for the max-pooling operation in the function `max_pool` in the file `layers.py`. Again, don't worry too much about computational efficiency.\n",
    "\n",
    "Check your implementation by running the following:"
   ]
  },
  {
   "cell_type": "code",
   "execution_count": 10,
   "metadata": {},
   "outputs": [
    {
     "name": "stdout",
     "output_type": "stream",
     "text": [
      "Great! Your implementation of max_pool_forward seems good !\n"
     ]
    }
   ],
   "source": [
    "x_shape = (2, 3, 4, 4)\n",
    "x = np.linspace(-0.3, 0.4, num=np.prod(x_shape)).reshape(x_shape)\n",
    "pool_param = {'pool_width': 2, 'pool_height': 2, 'stride': 2}\n",
    "\n",
    "out, _ = max_pool_forward(x, pool_param)\n",
    "\n",
    "if out is None:\n",
    "    print(\"You have to implement max_pool_forward first.\")\n",
    "else:\n",
    "    if check_same_array(out, npzfile['arr_MPFN']):\n",
    "        print(\"Great! Your implementation of max_pool_forward seems good !\")\n",
    "    else:\n",
    "        print(\"Bad news! Your implementation of max_pool_forward seems wrong !\")"
   ]
  },
  {
   "cell_type": "markdown",
   "metadata": {},
   "source": [
    "# Max-Pooling: backward\n",
    "Implement the backward pass for the max-pooling operation in the function `max_pool_backward` in the file `layers.py`. You don't need to worry about computational efficiency.\n",
    "\n",
    "Check your implementation with numeric gradient checking by running the following:"
   ]
  },
  {
   "cell_type": "code",
   "execution_count": 11,
   "metadata": {},
   "outputs": [
    {
     "name": "stdout",
     "output_type": "stream",
     "text": [
      "Great! Your implementation of conv_backward seems good !\n"
     ]
    }
   ],
   "source": [
    "np.random.seed(231)\n",
    "x = np.random.randn(3, 2, 8, 8)\n",
    "dout = np.random.randn(3, 2, 4, 4)\n",
    "pool_param = {'pool_height': 2, 'pool_width': 2, 'stride': 2}\n",
    "\n",
    "out, cache = max_pool_forward(x, pool_param)\n",
    "dx = max_pool_backward(dout, cache)\n",
    "if dx is None:\n",
    "    print(\"You have to implement conv_backward first.\")\n",
    "else:\n",
    "    dx_num = eval_numerical_gradient_array(lambda x: max_pool_forward(x, pool_param)[0], x, dout)\n",
    "    if rel_error(dx, dx_num) <= 1e-11:\n",
    "        print(\"Great! Your implementation of conv_backward seems good !\")\n",
    "    else:\n",
    "        print(\"Bad news! Your implementation of conv_backward seems wrong !\")"
   ]
  },
  {
   "cell_type": "markdown",
   "metadata": {},
   "source": [
    "# Three-layer ConvNet\n",
    "Now that you have implemented all the necessary layers, we can put them together into a simple convolutional network.\n",
    "\n",
    "Open the file `cnn.py` and complete the implementation of the `ThreeLayerConvNet` class. Remember you can use all the layers in the `layers.py` file in your implementation. Run the following cells to help you debug:"
   ]
  },
  {
   "cell_type": "markdown",
   "metadata": {},
   "source": [
    "## Check forward pass\n",
    "\n",
    "Here we ask you to build the forward pass of the 3-layer ConvNet. You must follow this architecture:\n",
    "Convolution -> ReLu -> 2x2 Max Pool -> Linear Layer -> ReLu -> Linear Layer -> Softmax\n",
    "\n",
    "Don't forget all you need is in the `layers.py` file, even for the backward pass. You can find also combinations of these components. You don't have to compute the softmax because it is already computed in the loss."
   ]
  },
  {
   "cell_type": "code",
   "execution_count": 12,
   "metadata": {},
   "outputs": [
    {
     "name": "stdout",
     "output_type": "stream",
     "text": [
      "Great! Your implementation of the forward pass seems good !\n"
     ]
    }
   ],
   "source": [
    "np.random.seed(13)\n",
    "N = 10\n",
    "X = data[:N]\n",
    "y = labels[:N]\n",
    "\n",
    "model = ThreeLayerConvNet(input_dim=(3, 8, 8), num_filters=3, filter_size=3,\n",
    "                 hidden_dim=10, num_classes=10, weight_scale=1e-3, reg=0.0,\n",
    "                 dtype=np.float32)\n",
    "out = model.loss(X)\n",
    "\n",
    "if out is None:\n",
    "    print(\"You have to implement the forward pass first.\")\n",
    "else:\n",
    "    if check_same_array(out, npzfile['scores_FP']):\n",
    "        print(\"Great! Your implementation of the forward pass seems good !\")\n",
    "    else:\n",
    "        print(\"Bad news! Your implementation of the forward pass seems wrong !\")"
   ]
  },
  {
   "cell_type": "markdown",
   "metadata": {},
   "source": [
    "## Check loss\n",
    "\n",
    "Compute the loss now. We provide you already a funtion that computes the softmax and another for the backward, but since we have a regularization term these simple function is imcomplete. Start from it and add the missing parts on your loss."
   ]
  },
  {
   "cell_type": "code",
   "execution_count": 13,
   "metadata": {},
   "outputs": [
    {
     "name": "stdout",
     "output_type": "stream",
     "text": [
      "Great! Your implementation of the loss (no regularization) seems good !\n",
      "Great! Your implementation of the loss (with regularization) seems good !\n"
     ]
    }
   ],
   "source": [
    "np.random.seed(13)\n",
    "N = 10\n",
    "X = data[:N]\n",
    "y = labels[:N]\n",
    "\n",
    "model = ThreeLayerConvNet(input_dim=(3, 8, 8), num_filters=3, filter_size=3,\n",
    "                 hidden_dim=10, num_classes=10, weight_scale=1e-3, reg=0.0,\n",
    "                 dtype=np.float32)\n",
    "\n",
    "out, _ = model.loss(X, y)\n",
    "if out is None:\n",
    "    print(\"You have to implement the loss (no regularization) first.\")\n",
    "else:\n",
    "    if check_same_array(out, npzfile['loss_CL']):\n",
    "        print(\"Great! Your implementation of the loss (no regularization) seems good !\")\n",
    "    else:\n",
    "        print(\"Bad news! Your implementation of the loss (no regularization) seems wrong !\")\n",
    "\n",
    "model.reg = 0.5\n",
    "out, _ = model.loss(X, y)\n",
    "if out is None:\n",
    "    print(\"You have to implement loss (with regularization) first.\")\n",
    "else:\n",
    "    if check_same_array(out, npzfile['loss_CLR']):\n",
    "        print(\"Great! Your implementation of the loss (with regularization) seems good !\")\n",
    "    else:\n",
    "        print(\"Bad news! Your implementation of the loss (with regularization) seems wrong !\")"
   ]
  },
  {
   "cell_type": "markdown",
   "metadata": {},
   "source": [
    "## Gradient check\n",
    "After the loss is correct, implement the backward pass. Don't forget that you already implement functions in `layer.py` that may help you know."
   ]
  },
  {
   "cell_type": "code",
   "execution_count": 14,
   "metadata": {},
   "outputs": [
    {
     "name": "stdout",
     "output_type": "stream",
     "text": [
      "Great! Your implementation of the grads (no regularization) for W1 seems good !\n",
      "Great! Your implementation of the grads (no regularization) for b1 seems good !\n",
      "Great! Your implementation of the grads (no regularization) for W2 seems good !\n",
      "Great! Your implementation of the grads (no regularization) for b2 seems good !\n",
      "Great! Your implementation of the grads (no regularization) for W3 seems good !\n",
      "Great! Your implementation of the grads (no regularization) for b3 seems good !\n",
      "Great! Your implementation of the grads (with regularization) for W1 seems good !\n",
      "Great! Your implementation of the grads (with regularization) for b1 seems good !\n",
      "Great! Your implementation of the grads (with regularization) for W2 seems good !\n",
      "Great! Your implementation of the grads (with regularization) for b2 seems good !\n",
      "Great! Your implementation of the grads (with regularization) for W3 seems good !\n",
      "Great! Your implementation of the grads (with regularization) for b3 seems good !\n"
     ]
    }
   ],
   "source": [
    "np.random.seed(13)\n",
    "N = 10\n",
    "X = data[:N]\n",
    "y = labels[:N]\n",
    "\n",
    "model = ThreeLayerConvNet(input_dim=(3, 8, 8), num_filters=3, filter_size=3,\n",
    "                 hidden_dim=10, num_classes=10, weight_scale=1e-3, reg=0.0,\n",
    "                 dtype=np.float32)\n",
    "\n",
    "\n",
    "_, out = model.loss(X, y)\n",
    "if out == {}:\n",
    "    print(\"You have to implement grads (no regularization) first.\")\n",
    "else:\n",
    "    for k, v in out.items():\n",
    "        if check_same_array(out[k], npzfile['grads_GC_{}'.format(k)]):\n",
    "            print(\"Great! Your implementation of the grads (no regularization) for {} seems good !\".format(k))\n",
    "        else:\n",
    "            print(\"Bad news! Your implementation of the grads (no regularization) for {} seems wrong !\".format(k))\n",
    "\n",
    "model.reg = 0.5\n",
    "_, out = model.loss(X, y)\n",
    "if out  == {}:\n",
    "    print(\"You have to implement grads (with regularization) first.\")\n",
    "else:\n",
    "    for k, v in out.items():\n",
    "        if check_same_array(out[k], npzfile['grads_GCR_{}'.format(k)]):\n",
    "            print(\"Great! Your implementation of the grads (with regularization) for {} seems good !\".format(k))\n",
    "        else:\n",
    "            print(\"Bad news! Your implementation of the grads (with regularization) for {} seems wrong !\".format(k))\n"
   ]
  },
  {
   "cell_type": "markdown",
   "metadata": {},
   "source": [
    "## Train the network\n",
    "\n",
    "We have almost done. You simply need know to implement SGD in the train function. Don't forget to update all your weights and biases.\n",
    "\n",
    "The next cell is simply a reduction of the dataset. We reduce the dataset because our implementation of the convolution and myx pooling may not be very optimized, so we have simplyfied the task."
   ]
  },
  {
   "cell_type": "code",
   "execution_count": 15,
   "metadata": {},
   "outputs": [],
   "source": [
    "digits_to_keep = [2, 4, 7]\n",
    "\n",
    "# get indices of elements to keep\n",
    "idx_to_keep = []\n",
    "for idx in range(data.shape[0]):\n",
    "    if labels[idx] in digits_to_keep:\n",
    "        idx_to_keep.append(True)\n",
    "    else:\n",
    "        idx_to_keep.append(False)\n",
    "        \n",
    "# get new dataset\n",
    "data_small = data[idx_to_keep]\n",
    "labels_small = labels[idx_to_keep].tolist()\n",
    "\n",
    "# fix indeces\n",
    "labels_small = np.array([digits_to_keep.index(lab) for lab in labels_small])\n",
    "\n",
    "N = int(data_small.shape[0]*0.7)\n",
    "X_train = data_small[:N]\n",
    "y_train = labels_small[:N]\n",
    "\n",
    "X_test = data_small[N:]\n",
    "y_test = labels_small[N:]"
   ]
  },
  {
   "cell_type": "code",
   "execution_count": 16,
   "metadata": {},
   "outputs": [
    {
     "data": {
      "text/plain": [
       "Text(0.5, 1.0, 'Loss of 3-layer ConvNet during training')"
      ]
     },
     "execution_count": 16,
     "metadata": {},
     "output_type": "execute_result"
    },
    {
     "data": {
      "image/png": "[encoded data removed]",
      "text/plain": [
       "<Figure size 432x288 with 1 Axes>"
      ]
     },
     "metadata": {
      "needs_background": "light"
     },
     "output_type": "display_data"
    }
   ],
   "source": [
    "np.random.seed(13)\n",
    "model = ThreeLayerConvNet(input_dim=(3, 8, 8), num_filters=10, filter_size=3,\n",
    "                 hidden_dim=128, num_classes=3, weight_scale=1e-3, reg=1,\n",
    "                 dtype=np.float32)\n",
    "\n",
    "loss_history, acc_history = model.train(X_train, y_train, batch_size=30, num_epochs=10)\n",
    "\n",
    "# show the loss\n",
    "\n",
    "plt.plot(loss_history, label=\"training loss\")\n",
    "plt.legend()\n",
    "plt.title(\"Loss of 3-layer ConvNet during training\")\n"
   ]
  },
  {
   "cell_type": "markdown",
   "metadata": {},
   "source": [
    "## Visualize Filters\n",
    "You can visualize the first-layer convolutional filters from the trained network by running the following:"
   ]
  },
  {
   "cell_type": "code",
   "execution_count": 17,
   "metadata": {},
   "outputs": [
    {
     "name": "stdout",
     "output_type": "stream",
     "text": [
      "(10, 3, 3, 3)\n"
     ]
    },
    {
     "data": {
      "image/png": "[encoded data removed]",
      "text/plain": [
       "<Figure size 360x360 with 1 Axes>"
      ]
     },
     "metadata": {
      "needs_background": "light"
     },
     "output_type": "display_data"
    }
   ],
   "source": [
    "from math import sqrt, ceil\n",
    "\n",
    "def visualize_grid(Xs, ubound=255.0, padding=1):\n",
    "    \"\"\"\n",
    "    Reshape a 4D tensor of image data to a grid for easy visualization.\n",
    "\n",
    "    Inputs:\n",
    "    - Xs: Data of shape (N, H, W, C)\n",
    "    - ubound: Output grid will have values scaled to the range [0, ubound]\n",
    "    - padding: The number of blank pixels between elements of the grid\n",
    "    \"\"\"\n",
    "    (N, H, W, C) = Xs.shape\n",
    "    grid_size = int(ceil(sqrt(N)))\n",
    "    grid_height = H * grid_size + padding * (grid_size - 1)\n",
    "    grid_width = W * grid_size + padding * (grid_size - 1)\n",
    "    grid = np.zeros((grid_height, grid_width, C))\n",
    "    next_idx = 0\n",
    "    y0, y1 = 0, H\n",
    "    for y in range(grid_size):\n",
    "        x0, x1 = 0, W\n",
    "        for x in range(grid_size):\n",
    "            if next_idx < N:\n",
    "                img = Xs[next_idx]\n",
    "                low, high = np.min(img), np.max(img)\n",
    "                grid[y0:y1, x0:x1] = ubound * (img - low) / (high - low)\n",
    "                # grid[y0:y1, x0:x1] = Xs[next_idx]\n",
    "                next_idx += 1\n",
    "            x0 += W + padding\n",
    "            x1 += W + padding\n",
    "        y0 += H + padding\n",
    "        y1 += H + padding\n",
    "    # grid_max = np.max(grid)\n",
    "    # grid_min = np.min(grid)\n",
    "    # grid = ubound * (grid - grid_min) / (grid_max - grid_min)\n",
    "    return grid\n",
    "\n",
    "print(model.params['W1'].shape)\n",
    "\n",
    "grid = visualize_grid(model.params['W1'].transpose(0, 2, 3, 1))\n",
    "plt.imshow(grid.astype('uint8'))\n",
    "plt.axis('off')\n",
    "plt.gcf().set_size_inches(5, 5)\n",
    "plt.show()"
   ]
  }
 ],
 "metadata": {
  "kernelspec": {
   "display_name": "Python 3",
   "language": "python",
   "name": "python3"
  },
  "language_info": {
   "codemirror_mode": {
    "name": "ipython",
    "version": 3
   },
   "file_extension": ".py",
   "mimetype": "text/x-python",
   "name": "python",
   "nbconvert_exporter": "python",
   "pygments_lexer": "ipython3",
   "version": "3.7.3"
  }
 },
 "nbformat": 4,
 "nbformat_minor": 4
}
